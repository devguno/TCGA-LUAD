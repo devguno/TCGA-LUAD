{
 "cells": [
  {
   "cell_type": "code",
   "execution_count": 2,
   "metadata": {},
   "outputs": [
    {
     "name": "stdout",
     "output_type": "stream",
     "text": [
      "Converted clinical.tsv to clinical.csv\n",
      "Converted exposure.tsv to exposure.csv\n",
      "Converted family_history.tsv to family_history.csv\n",
      "Converted follow_up.tsv to follow_up.csv\n",
      "Converted pathology_detail.tsv to pathology_detail.csv\n"
     ]
    }
   ],
   "source": [
    "import os\n",
    "import pandas as pd\n",
    "\n",
    "# 파일이 저장된 경로\n",
    "folder_path = r'C:\\Users\\iamgu\\Documents\\GitHub\\TCGA-LUAD\\clinical.project-tcga-luad'\n",
    "\n",
    "# 폴더 내의 모든 파일을 확인\n",
    "for filename in os.listdir(folder_path):\n",
    "    if filename.endswith(\".tsv\"):\n",
    "        # TSV 파일을 DataFrame으로 읽기\n",
    "        file_path = os.path.join(folder_path, filename)\n",
    "        df = pd.read_csv(file_path, sep='\\t')\n",
    "        \n",
    "        # 같은 이름의 CSV 파일로 저장\n",
    "        csv_filename = filename.replace('.tsv', '.csv')\n",
    "        csv_file_path = os.path.join(folder_path, csv_filename)\n",
    "        df.to_csv(csv_file_path, index=False)\n",
    "        print(f\"Converted {filename} to {csv_filename}\")\n"
   ]
  }
 ],
 "metadata": {
  "kernelspec": {
   "display_name": "tcga",
   "language": "python",
   "name": "python3"
  },
  "language_info": {
   "codemirror_mode": {
    "name": "ipython",
    "version": 3
   },
   "file_extension": ".py",
   "mimetype": "text/x-python",
   "name": "python",
   "nbconvert_exporter": "python",
   "pygments_lexer": "ipython3",
   "version": "3.12.0"
  }
 },
 "nbformat": 4,
 "nbformat_minor": 2
}
